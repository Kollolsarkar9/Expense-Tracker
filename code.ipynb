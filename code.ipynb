{
  "nbformat": 4,
  "nbformat_minor": 0,
  "metadata": {
    "colab": {
      "provenance": [],
      "authorship_tag": "ABX9TyOXLMT+DoQlnOKyHHBCxKtk",
      "include_colab_link": true
    },
    "kernelspec": {
      "name": "python3",
      "display_name": "Python 3"
    },
    "language_info": {
      "name": "python"
    }
  },
  "cells": [
    {
      "cell_type": "markdown",
      "metadata": {
        "id": "view-in-github",
        "colab_type": "text"
      },
      "source": [
        "<a href=\"https://colab.research.google.com/github/Kollolsarkar9/Expense-Tracker/blob/main/code.ipynb\" target=\"_parent\"><img src=\"https://colab.research.google.com/assets/colab-badge.svg\" alt=\"Open In Colab\"/></a>"
      ]
    },
    {
      "cell_type": "code",
      "execution_count": null,
      "metadata": {
        "colab": {
          "base_uri": "https://localhost:8080/"
        },
        "id": "uR4P9_2qvkSM",
        "outputId": "5471f90c-871b-43a4-d762-7a360d5e50c4"
      },
      "outputs": [
        {
          "output_type": "stream",
          "name": "stdout",
          "text": [
            "Expense Tracker Options:\n",
            "1. Add Expense\n",
            "2. Show Summary\n",
            "3. Plot Monthly Spending\n",
            "Choose (1/2/3): 2\n",
            "\n",
            " Total Expenses: 7439.169999999998\n",
            "\n",
            " Category-wise Summary:\n",
            "Category\n",
            "Entertainment     757.40\n",
            "Food             1033.33\n",
            "Health           1517.34\n",
            "Shopping         1274.85\n",
            "Transport        1041.12\n",
            "Utilities        1815.13\n",
            "Name: Amount, dtype: float64\n"
          ]
        }
      ],
      "source": [
        "import pandas as pd\n",
        "import matplotlib.pyplot as plt\n",
        "import os\n",
        "from datetime import datetime\n",
        "\n",
        "DATA_FILE = \"/content/sample_data/expenses_extended.csv\"\n",
        "\n",
        "def init_data():\n",
        "    if not os.path.exists(DATA_FILE):\n",
        "        df = pd.DataFrame(columns=[\"Date\", \"Category\", \"Description\", \"Amount\"])\n",
        "        df.to_csv(DATA_FILE, index=False)\n",
        "\n",
        "def add_expense(date, category, desc, amount):\n",
        "    df = pd.read_csv(DATA_FILE)\n",
        "    new_entry = {\"Date\": date, \"Category\": category, \"Description\": desc, \"Amount\": float(amount)}\n",
        "    df = pd.concat([df, pd.DataFrame([new_entry])], ignore_index=True)\n",
        "    df.to_csv(DATA_FILE, index=False)\n",
        "    print(\"✅ Expense added.\")\n",
        "\n",
        "def show_summary():\n",
        "    df = pd.read_csv(DATA_FILE)\n",
        "    print(\"\\n Total Expenses:\", df['Amount'].sum())\n",
        "    print(\"\\n Category-wise Summary:\")\n",
        "    print(df.groupby(\"Category\")[\"Amount\"].sum())\n",
        "\n",
        "def plot_monthly_spending():\n",
        "    os.makedirs(\"plots\", exist_ok=True)\n",
        "    df = pd.read_csv(DATA_FILE)\n",
        "    df['Date'] = pd.to_datetime(df['Date'])\n",
        "    df['Month'] = df['Date'].dt.to_period('M')\n",
        "    monthly = df.groupby('Month')['Amount'].sum()\n",
        "\n",
        "    plt.figure(figsize=(10,6))\n",
        "    monthly.plot(kind='bar')\n",
        "    plt.title(\"Monthly Expense Summary\")\n",
        "    plt.ylabel(\"Total Spent\")\n",
        "    plt.grid()\n",
        "    plt.tight_layout()\n",
        "    plt.savefig(\"plots/monthly_expense.png\")\n",
        "    plt.close()\n",
        "    print(\"📈 Monthly spending chart saved in 'plots/' folder.\")\n",
        "\n",
        "if __name__ == \"__main__\":\n",
        "    init_data()\n",
        "\n",
        "    print(\"Expense Tracker Options:\")\n",
        "    print(\"1. Add Expense\")\n",
        "    print(\"2. Show Summary\")\n",
        "    print(\"3. Plot Monthly Spending\")\n",
        "    choice = input(\"Choose (1/2/3): \")\n",
        "\n",
        "    if choice == '1':\n",
        "        date = input(\"Date (YYYY-MM-DD): \")\n",
        "        category = input(\"Category: \")\n",
        "        desc = input(\"Description: \")\n",
        "        amount = input(\"Amount: \")\n",
        "        add_expense(date, category, desc, amount)\n",
        "\n",
        "    elif choice == '2':\n",
        "        show_summary()\n",
        "\n",
        "    elif choice == '3':\n",
        "        plot_monthly_spending()\n",
        "\n",
        "    else:\n",
        "        print(\"Invalid option.\")\n"
      ]
    }
  ]
}